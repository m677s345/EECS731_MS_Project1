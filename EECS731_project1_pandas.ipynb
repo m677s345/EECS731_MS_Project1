{
  "nbformat": 4,
  "nbformat_minor": 0,
  "metadata": {
    "colab": {
      "name": "EECS731_project1_pandas.ipynb",
      "provenance": [],
      "authorship_tag": "ABX9TyMUDdf+FffochFzmbndeIAw",
      "include_colab_link": true
    },
    "kernelspec": {
      "name": "python3",
      "display_name": "Python 3"
    }
  },
  "cells": [
    {
      "cell_type": "markdown",
      "metadata": {
        "id": "view-in-github",
        "colab_type": "text"
      },
      "source": [
        "<a href=\"https://colab.research.google.com/github/m677s345/EECS731_MS_Project1/blob/master/EECS731_project1_pandas.ipynb\" target=\"_parent\"><img src=\"https://colab.research.google.com/assets/colab-badge.svg\" alt=\"Open In Colab\"/></a>"
      ]
    },
    {
      "cell_type": "markdown",
      "metadata": {
        "id": "KKhcxFZK99up",
        "colab_type": "text"
      },
      "source": [
        "Install cookiecutter and build code framework"
      ]
    },
    {
      "cell_type": "code",
      "metadata": {
        "id": "JPwtdqH854W0",
        "colab_type": "code",
        "colab": {}
      },
      "source": [
        "!pip install cookiecutter\n",
        "!cookiecutter https://github.com/drivendata/cookiecutter-data-science\n"
      ],
      "execution_count": null,
      "outputs": []
    },
    {
      "cell_type": "markdown",
      "metadata": {
        "id": "Fa9h-IcoIK2p",
        "colab_type": "text"
      },
      "source": [
        "Importing packages"
      ]
    },
    {
      "cell_type": "code",
      "metadata": {
        "id": "0-rOoHCy-I4_",
        "colab_type": "code",
        "colab": {}
      },
      "source": [
        "import numpy as np\n",
        "import pandas as pd\n"
      ],
      "execution_count": 6,
      "outputs": []
    },
    {
      "cell_type": "code",
      "metadata": {
        "id": "oTfau71aIRBo",
        "colab_type": "code",
        "colab": {
          "base_uri": "https://localhost:8080/",
          "height": 136
        },
        "outputId": "dbfc3c14-6269-4c1e-c8e5-3434c2be2e60"
      },
      "source": [
        "s=pd.Series([1,3,5,np.nan,6,8])\n",
        "\n",
        "dates=pd.date_range('20130101', periods=6)\n"
      ],
      "execution_count": 8,
      "outputs": [
        {
          "output_type": "stream",
          "text": [
            "0    1.0\n",
            "1    3.0\n",
            "2    5.0\n",
            "3    NaN\n",
            "4    6.0\n",
            "5    8.0\n",
            "dtype: float64\n"
          ],
          "name": "stdout"
        }
      ]
    }
  ]
}