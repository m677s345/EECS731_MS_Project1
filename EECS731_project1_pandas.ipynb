{
  "nbformat": 4,
  "nbformat_minor": 0,
  "metadata": {
    "colab": {
      "name": "EECS731_project1_pandas.ipynb",
      "provenance": [],
      "toc_visible": true,
      "authorship_tag": "ABX9TyPbSWv70JPtOfVgSM2Gj1oh",
      "include_colab_link": true
    },
    "kernelspec": {
      "name": "python3",
      "display_name": "Python 3"
    }
  },
  "cells": [
    {
      "cell_type": "markdown",
      "metadata": {
        "id": "view-in-github",
        "colab_type": "text"
      },
      "source": [
        "<a href=\"https://colab.research.google.com/github/m677s345/EECS731_MS_Project1/blob/master/EECS731_project1_pandas.ipynb\" target=\"_parent\"><img src=\"https://colab.research.google.com/assets/colab-badge.svg\" alt=\"Open In Colab\"/></a>"
      ]
    },
    {
      "cell_type": "markdown",
      "metadata": {
        "id": "KKhcxFZK99up",
        "colab_type": "text"
      },
      "source": [
        "Install cookiecutter and build code framework"
      ]
    },
    {
      "cell_type": "code",
      "metadata": {
        "id": "JPwtdqH854W0",
        "colab_type": "code",
        "colab": {
          "base_uri": "https://localhost:8080/",
          "height": 697
        },
        "outputId": "220353f6-ff95-43d7-8955-f2d66ac0ba66"
      },
      "source": [
        "!pip install cookiecutter\n",
        "!cookiecutter https://github.com/drivendata/cookiecutter-data-science\n"
      ],
      "execution_count": 1,
      "outputs": [
        {
          "output_type": "stream",
          "text": [
            "Collecting cookiecutter\n",
            "  Downloading https://files.pythonhosted.org/packages/95/83/83ebf950ec99b02c61719ccb116462844ba2e873df7c4d40afc962494312/cookiecutter-1.7.2-py2.py3-none-any.whl\n",
            "Collecting jinja2-time>=0.2.0\n",
            "  Downloading https://files.pythonhosted.org/packages/6a/a1/d44fa38306ffa34a7e1af09632b158e13ec89670ce491f8a15af3ebcb4e4/jinja2_time-0.2.0-py2.py3-none-any.whl\n",
            "Collecting binaryornot>=0.4.4\n",
            "  Downloading https://files.pythonhosted.org/packages/24/7e/f7b6f453e6481d1e233540262ccbfcf89adcd43606f44a028d7f5fae5eb2/binaryornot-0.4.4-py2.py3-none-any.whl\n",
            "Requirement already satisfied: Jinja2<3.0.0 in /usr/local/lib/python3.6/dist-packages (from cookiecutter) (2.11.2)\n",
            "Requirement already satisfied: click>=7.0 in /usr/local/lib/python3.6/dist-packages (from cookiecutter) (7.1.2)\n",
            "Collecting poyo>=0.5.0\n",
            "  Downloading https://files.pythonhosted.org/packages/42/50/0b0820601bde2eda403f47b9a4a1f270098ed0dd4c00c443d883164bdccc/poyo-0.5.0-py2.py3-none-any.whl\n",
            "Requirement already satisfied: requests>=2.23.0 in /usr/local/lib/python3.6/dist-packages (from cookiecutter) (2.23.0)\n",
            "Requirement already satisfied: python-slugify>=4.0.0 in /usr/local/lib/python3.6/dist-packages (from cookiecutter) (4.0.1)\n",
            "Requirement already satisfied: six>=1.10 in /usr/local/lib/python3.6/dist-packages (from cookiecutter) (1.15.0)\n",
            "Requirement already satisfied: MarkupSafe<2.0.0 in /usr/local/lib/python3.6/dist-packages (from cookiecutter) (1.1.1)\n",
            "Collecting arrow\n",
            "\u001b[?25l  Downloading https://files.pythonhosted.org/packages/ed/d2/aa994f2d8dd442113c753041761dc0732a35def05538de48f61adb28642a/arrow-0.16.0-py2.py3-none-any.whl (50kB)\n",
            "\u001b[K     |████████████████████████████████| 51kB 2.5MB/s \n",
            "\u001b[?25hRequirement already satisfied: chardet>=3.0.2 in /usr/local/lib/python3.6/dist-packages (from binaryornot>=0.4.4->cookiecutter) (3.0.4)\n",
            "Requirement already satisfied: idna<3,>=2.5 in /usr/local/lib/python3.6/dist-packages (from requests>=2.23.0->cookiecutter) (2.10)\n",
            "Requirement already satisfied: urllib3!=1.25.0,!=1.25.1,<1.26,>=1.21.1 in /usr/local/lib/python3.6/dist-packages (from requests>=2.23.0->cookiecutter) (1.24.3)\n",
            "Requirement already satisfied: certifi>=2017.4.17 in /usr/local/lib/python3.6/dist-packages (from requests>=2.23.0->cookiecutter) (2020.6.20)\n",
            "Requirement already satisfied: text-unidecode>=1.3 in /usr/local/lib/python3.6/dist-packages (from python-slugify>=4.0.0->cookiecutter) (1.3)\n",
            "Requirement already satisfied: python-dateutil>=2.7.0 in /usr/local/lib/python3.6/dist-packages (from arrow->jinja2-time>=0.2.0->cookiecutter) (2.8.1)\n",
            "Installing collected packages: arrow, jinja2-time, binaryornot, poyo, cookiecutter\n",
            "Successfully installed arrow-0.16.0 binaryornot-0.4.4 cookiecutter-1.7.2 jinja2-time-0.2.0 poyo-0.5.0\n",
            "project_name [project_name]: EECS731_project1_pandas\n",
            "repo_name [eecs731_project1_pandas]: EECS731_project1_pandas\n",
            "author_name [Your name (or your organization/company/team)]: Matt Stalcup\n",
            "description [A short description of the project.]: \n",
            "Select open_source_license:\n",
            "1 - MIT\n",
            "2 - BSD-3-Clause\n",
            "3 - No license file\n",
            "Choose from 1, 2, 3 [1]: \n",
            "s3_bucket [[OPTIONAL] your-bucket-for-syncing-data (do not include 's3://')]: \n",
            "aws_profile [default]: \n",
            "Select python_interpreter:\n",
            "1 - python3\n",
            "2 - python\n",
            "Choose from 1, 2 [1]: 1\n"
          ],
          "name": "stdout"
        }
      ]
    },
    {
      "cell_type": "markdown",
      "metadata": {
        "id": "Fa9h-IcoIK2p",
        "colab_type": "text"
      },
      "source": [
        "Importing packages"
      ]
    },
    {
      "cell_type": "code",
      "metadata": {
        "id": "0-rOoHCy-I4_",
        "colab_type": "code",
        "colab": {
          "base_uri": "https://localhost:8080/",
          "height": 272
        },
        "outputId": "a9a192a0-5249-4af6-b3a4-6dc02410818b"
      },
      "source": [
        "import numpy as np\n",
        "import pandas as pd\n",
        "import matplotlib.pyplot as plt\n",
        "Tdf= pd.read_csv('/content/EECS731_project1_pandas/data/processed/110-tavg-all-7-2000-2020_cleaned.csv', header=[0], index_col=0)\n",
        "Tdf.index=pd.to_datetime(Tdf.index)\n",
        "LPdf= pd.read_csv('/content/EECS731_project1_pandas/data/processed/LivestockPrices_cleaned_Beef.csv',header=[0],index_col=0)\n",
        "LPdf.index=pd.to_datetime(LPdf.index)\n",
        "#Meatdf= pd.read_excel('/content/EECS731_project1_pandas/data/external/MeatStatsFull.xlsx',sheet_name='SlaughterWeights-Full', header=[0,1,2])\n",
        "print(Tdf)"
      ],
      "execution_count": 145,
      "outputs": [
        {
          "output_type": "stream",
          "text": [
            "            Average Temperature\n",
            "Date                           \n",
            "2000-01-01                33.57\n",
            "2000-02-01                39.78\n",
            "2000-03-01                46.04\n",
            "2000-04-01                52.59\n",
            "2000-05-01                63.14\n",
            "...                         ...\n",
            "2020-03-01                46.08\n",
            "2020-04-01                50.86\n",
            "2020-05-01                60.89\n",
            "2020-06-01                70.29\n",
            "2020-07-01                75.67\n",
            "\n",
            "[247 rows x 1 columns]\n"
          ],
          "name": "stdout"
        }
      ]
    },
    {
      "cell_type": "code",
      "metadata": {
        "id": "M3k_ZWiXSe-r",
        "colab_type": "code",
        "colab": {}
      },
      "source": [
        ""
      ],
      "execution_count": null,
      "outputs": []
    },
    {
      "cell_type": "code",
      "metadata": {
        "colab_type": "code",
        "id": "jHe7NIW6Sf7L",
        "colab": {
          "base_uri": "https://localhost:8080/",
          "height": 204
        },
        "outputId": "301f3e65-261c-4ea5-91f4-e4b65b61e94d"
      },
      "source": [
        "# import numpy as np\n",
        "# import pandas as pd\n",
        "# from pandas import DataFrame\n",
        "# import matplotlib.pyplot as plt\n",
        "\n",
        "\n",
        "# Tread= pd.read_csv('/content/EECS731_project1_pandas/data/processed/110-tavg-all-7-2000-2020_cleaned.csv', header=[0])\n",
        "# Tdates=pd.to_datetime(Tread['Date'],format='%m/%d/%Y')\n",
        "# Tdf=pd.merge(Tdates,Tread['Average Temperature'], how = 'inner', right_index = True, left_index = True)\n",
        "\n",
        "\n",
        "# LPread= pd.read_csv('/content/EECS731_project1_pandas/data/processed/LivestockPrices_cleaned_Beef.csv',header=[0],)\n",
        "# #LPdates=pd.to_datetime(LPread['mdyyyy'],format='%m/%d/%Y',)\n",
        "# LPdf=pd.merge(Tdates,LPread, how = 'inner', right_index = True, left_index = True)\n",
        "# #Meatdf= pd.read_excel('/content/EECS731_project1_pandas/data/external/MeatStatsFull.xlsx',sheet_name='SlaughterWeights-Full', header=[0,1,2])\n",
        "# LPdf.head()\n"
      ],
      "execution_count": 139,
      "outputs": [
        {
          "output_type": "execute_result",
          "data": {
            "text/html": [
              "<div>\n",
              "<style scoped>\n",
              "    .dataframe tbody tr th:only-of-type {\n",
              "        vertical-align: middle;\n",
              "    }\n",
              "\n",
              "    .dataframe tbody tr th {\n",
              "        vertical-align: top;\n",
              "    }\n",
              "\n",
              "    .dataframe thead th {\n",
              "        text-align: right;\n",
              "    }\n",
              "</style>\n",
              "<table border=\"1\" class=\"dataframe\">\n",
              "  <thead>\n",
              "    <tr style=\"text-align: right;\">\n",
              "      <th></th>\n",
              "      <th>Date_x</th>\n",
              "      <th>Date_y</th>\n",
              "      <th>Steers: Med. #1 500-550 lb</th>\n",
              "      <th>Steers: Med. #1 600-650 lb</th>\n",
              "      <th>Steers: Med. #1 750-800 lb</th>\n",
              "      <th>Heifers: Med. #1 450-500 lb</th>\n",
              "      <th>Heifers: Med. #1 700-750 lb</th>\n",
              "    </tr>\n",
              "  </thead>\n",
              "  <tbody>\n",
              "    <tr>\n",
              "      <th>0</th>\n",
              "      <td>2000-01-01</td>\n",
              "      <td>1/1/2000</td>\n",
              "      <td>102.24</td>\n",
              "      <td>92.92</td>\n",
              "      <td>86.80</td>\n",
              "      <td>92.20</td>\n",
              "      <td>81.49</td>\n",
              "    </tr>\n",
              "    <tr>\n",
              "      <th>1</th>\n",
              "      <td>2000-02-01</td>\n",
              "      <td>2/1/2000</td>\n",
              "      <td>107.64</td>\n",
              "      <td>94.63</td>\n",
              "      <td>83.81</td>\n",
              "      <td>97.55</td>\n",
              "      <td>79.95</td>\n",
              "    </tr>\n",
              "    <tr>\n",
              "      <th>2</th>\n",
              "      <td>2000-03-01</td>\n",
              "      <td>3/1/2000</td>\n",
              "      <td>110.16</td>\n",
              "      <td>98.32</td>\n",
              "      <td>83.75</td>\n",
              "      <td>100.95</td>\n",
              "      <td>79.68</td>\n",
              "    </tr>\n",
              "    <tr>\n",
              "      <th>3</th>\n",
              "      <td>2000-04-01</td>\n",
              "      <td>4/1/2000</td>\n",
              "      <td>104.82</td>\n",
              "      <td>96.18</td>\n",
              "      <td>84.15</td>\n",
              "      <td>99.82</td>\n",
              "      <td>80.17</td>\n",
              "    </tr>\n",
              "    <tr>\n",
              "      <th>4</th>\n",
              "      <td>2000-05-01</td>\n",
              "      <td>5/1/2000</td>\n",
              "      <td>100.27</td>\n",
              "      <td>94.31</td>\n",
              "      <td>83.42</td>\n",
              "      <td>93.41</td>\n",
              "      <td>79.18</td>\n",
              "    </tr>\n",
              "  </tbody>\n",
              "</table>\n",
              "</div>"
            ],
            "text/plain": [
              "      Date_x  ... Heifers: Med. #1 700-750 lb\n",
              "0 2000-01-01  ...                       81.49\n",
              "1 2000-02-01  ...                       79.95\n",
              "2 2000-03-01  ...                       79.68\n",
              "3 2000-04-01  ...                       80.17\n",
              "4 2000-05-01  ...                       79.18\n",
              "\n",
              "[5 rows x 7 columns]"
            ]
          },
          "metadata": {
            "tags": []
          },
          "execution_count": 139
        }
      ]
    },
    {
      "cell_type": "code",
      "metadata": {
        "id": "4AjadhZO8-II",
        "colab_type": "code",
        "colab": {}
      },
      "source": [
        ""
      ],
      "execution_count": 129,
      "outputs": []
    },
    {
      "cell_type": "markdown",
      "metadata": {
        "id": "IGIoRDtDJRMx",
        "colab_type": "text"
      },
      "source": [
        "Statistics for medium grade steers from 500 to 800 pounds and prices are per 100 pounds."
      ]
    },
    {
      "cell_type": "code",
      "metadata": {
        "id": "beEgoLbnmv1X",
        "colab_type": "code",
        "colab": {
          "base_uri": "https://localhost:8080/",
          "height": 1000
        },
        "outputId": "cbe8c5a7-b8c0-446d-b777-8768d3509f4d"
      },
      "source": [
        "MedStdf=LPdf.iloc[:,0:3]\n",
        "yearly_ST_ohlc=MedStdf.resample('A').ohlc()\n",
        "yearly_ST_max=MedStdf.resample('A').max()\n",
        "print(yearly_ST_ohlc)\n",
        "print(yearly_ST_max)\n",
        "MedStdf.describe()"
      ],
      "execution_count": 146,
      "outputs": [
        {
          "output_type": "stream",
          "text": [
            "           Steers: Med. #1 500-550 lb                  ... Steers: Med. #1 750-800 lb                \n",
            "                                 open    high     low  ...                       high     low   close\n",
            "Date                                                   ...                                           \n",
            "2000-12-31                     102.24  110.16   94.08  ...                      90.53   83.42   90.53\n",
            "2001-12-31                     105.08  110.98   95.00  ...                      91.64   83.63   84.44\n",
            "2002-12-31                      99.94  104.11   87.50  ...                      85.22   76.73   85.22\n",
            "2003-12-31                      97.26  112.29   97.20  ...                     104.46   76.32  101.63\n",
            "2004-12-31                     107.44  134.86  107.44  ...                     117.10   86.61  105.24\n",
            "2005-12-31                     122.48  137.42  122.48  ...                     117.42  101.97  112.90\n",
            "2006-12-31                     137.11  137.11  117.18  ...                     117.58   99.10  100.99\n",
            "2007-12-31                     116.03  130.40  116.03  ...                     117.04   97.17  105.43\n",
            "2008-12-31                     119.36  125.81   99.37  ...                     112.78   89.51   89.51\n",
            "2009-12-31                     108.09  120.22  106.63  ...                     102.16   90.02   93.13\n",
            "2010-12-31                     111.27  138.45  111.27  ...                     118.04   95.46  118.04\n",
            "2011-12-31                     142.90  165.89  138.74  ...                     144.02  124.54  143.12\n",
            "2012-12-31                     178.61  198.97  149.50  ...                     155.58  137.24  145.32\n",
            "2013-12-31                     134.75  198.18  134.75  ...                     162.95  128.16  162.75\n",
            "2014-12-31                     212.68  302.66  210.19  ...                     238.80  164.31  230.00\n",
            "2015-12-31                     284.01  289.73  194.28  ...                     226.92  153.86  153.86\n",
            "2016-12-31                     199.02  199.94  133.09  ...                     157.30  123.50  130.73\n",
            "2017-12-31                     160.28  176.84  159.87  ...                     158.18  127.36  150.40\n",
            "2018-12-31                     179.89  180.40  163.96  ...                     155.41  139.89  141.78\n",
            "2019-12-31                     169.11  182.99  149.65  ...                     148.96  135.56  148.96\n",
            "2020-12-31                     171.50  178.04  151.62  ...                     144.36  121.11  130.78\n",
            "\n",
            "[21 rows x 12 columns]\n",
            "            Steers: Med. #1 500-550 lb  ...  Steers: Med. #1 750-800 lb\n",
            "Date                                    ...                            \n",
            "2000-12-31                      110.16  ...                       90.53\n",
            "2001-12-31                      110.98  ...                       91.64\n",
            "2002-12-31                      104.11  ...                       85.22\n",
            "2003-12-31                      112.29  ...                      104.46\n",
            "2004-12-31                      134.86  ...                      117.10\n",
            "2005-12-31                      137.42  ...                      117.42\n",
            "2006-12-31                      137.11  ...                      117.58\n",
            "2007-12-31                      130.40  ...                      117.04\n",
            "2008-12-31                      125.81  ...                      112.78\n",
            "2009-12-31                      120.22  ...                      102.16\n",
            "2010-12-31                      138.45  ...                      118.04\n",
            "2011-12-31                      165.89  ...                      144.02\n",
            "2012-12-31                      198.97  ...                      155.58\n",
            "2013-12-31                      198.18  ...                      162.95\n",
            "2014-12-31                      302.66  ...                      238.80\n",
            "2015-12-31                      289.73  ...                      226.92\n",
            "2016-12-31                      199.94  ...                      157.30\n",
            "2017-12-31                      176.84  ...                      158.18\n",
            "2018-12-31                      180.40  ...                      155.41\n",
            "2019-12-31                      182.99  ...                      148.96\n",
            "2020-12-31                      178.04  ...                      144.36\n",
            "\n",
            "[21 rows x 3 columns]\n"
          ],
          "name": "stdout"
        },
        {
          "output_type": "execute_result",
          "data": {
            "text/html": [
              "<div>\n",
              "<style scoped>\n",
              "    .dataframe tbody tr th:only-of-type {\n",
              "        vertical-align: middle;\n",
              "    }\n",
              "\n",
              "    .dataframe tbody tr th {\n",
              "        vertical-align: top;\n",
              "    }\n",
              "\n",
              "    .dataframe thead th {\n",
              "        text-align: right;\n",
              "    }\n",
              "</style>\n",
              "<table border=\"1\" class=\"dataframe\">\n",
              "  <thead>\n",
              "    <tr style=\"text-align: right;\">\n",
              "      <th></th>\n",
              "      <th>Steers: Med. #1 500-550 lb</th>\n",
              "      <th>Steers: Med. #1 600-650 lb</th>\n",
              "      <th>Steers: Med. #1 750-800 lb</th>\n",
              "    </tr>\n",
              "  </thead>\n",
              "  <tbody>\n",
              "    <tr>\n",
              "      <th>count</th>\n",
              "      <td>247.000000</td>\n",
              "      <td>247.000000</td>\n",
              "      <td>247.000000</td>\n",
              "    </tr>\n",
              "    <tr>\n",
              "      <th>mean</th>\n",
              "      <td>147.648057</td>\n",
              "      <td>135.028097</td>\n",
              "      <td>124.863279</td>\n",
              "    </tr>\n",
              "    <tr>\n",
              "      <th>std</th>\n",
              "      <td>45.693877</td>\n",
              "      <td>40.217868</td>\n",
              "      <td>35.283329</td>\n",
              "    </tr>\n",
              "    <tr>\n",
              "      <th>min</th>\n",
              "      <td>87.500000</td>\n",
              "      <td>82.350000</td>\n",
              "      <td>76.320000</td>\n",
              "    </tr>\n",
              "    <tr>\n",
              "      <th>25%</th>\n",
              "      <td>111.625000</td>\n",
              "      <td>104.050000</td>\n",
              "      <td>98.050000</td>\n",
              "    </tr>\n",
              "    <tr>\n",
              "      <th>50%</th>\n",
              "      <td>133.090000</td>\n",
              "      <td>122.990000</td>\n",
              "      <td>114.990000</td>\n",
              "    </tr>\n",
              "    <tr>\n",
              "      <th>75%</th>\n",
              "      <td>169.930000</td>\n",
              "      <td>156.210000</td>\n",
              "      <td>144.590000</td>\n",
              "    </tr>\n",
              "    <tr>\n",
              "      <th>max</th>\n",
              "      <td>302.660000</td>\n",
              "      <td>262.340000</td>\n",
              "      <td>238.800000</td>\n",
              "    </tr>\n",
              "  </tbody>\n",
              "</table>\n",
              "</div>"
            ],
            "text/plain": [
              "       Steers: Med. #1 500-550 lb  ...  Steers: Med. #1 750-800 lb\n",
              "count                  247.000000  ...                  247.000000\n",
              "mean                   147.648057  ...                  124.863279\n",
              "std                     45.693877  ...                   35.283329\n",
              "min                     87.500000  ...                   76.320000\n",
              "25%                    111.625000  ...                   98.050000\n",
              "50%                    133.090000  ...                  114.990000\n",
              "75%                    169.930000  ...                  144.590000\n",
              "max                    302.660000  ...                  238.800000\n",
              "\n",
              "[8 rows x 3 columns]"
            ]
          },
          "metadata": {
            "tags": []
          },
          "execution_count": 146
        }
      ]
    },
    {
      "cell_type": "markdown",
      "metadata": {
        "id": "oZNrNampJl3l",
        "colab_type": "text"
      },
      "source": [
        "Statistics for average temperature across the US"
      ]
    },
    {
      "cell_type": "code",
      "metadata": {
        "id": "kYs9pwYFqKDN",
        "colab_type": "code",
        "colab": {
          "base_uri": "https://localhost:8080/",
          "height": 1000
        },
        "outputId": "c7b5bd9c-f795-43fa-e83a-dd0e2ce71886"
      },
      "source": [
        "yearly_T_ohlc=Tdf.resample('A').ohlc()\n",
        "yearly_max=Tdf.resample('A').max()\n",
        "print(yearly_T_ohlc)\n",
        "print(yearly_max)\n",
        "Tdf.describe()\n"
      ],
      "execution_count": 147,
      "outputs": [
        {
          "output_type": "stream",
          "text": [
            "           Average Temperature                     \n",
            "                          open   high    low  close\n",
            "Date                                               \n",
            "2000-12-31               33.57  74.05  28.44  28.44\n",
            "2001-12-31               31.35  74.48  31.35  36.12\n",
            "2002-12-31               34.48  75.85  34.48  35.08\n",
            "2003-12-31               32.81  75.47  32.79  35.29\n",
            "2004-12-31               30.34  72.90  30.34  35.06\n",
            "2005-12-31               33.39  75.31  32.70  32.70\n",
            "2006-12-31               38.93  76.41  34.83  36.57\n",
            "2007-12-31               31.35  74.70  31.35  33.22\n",
            "2008-12-31               30.27  74.08  30.27  31.87\n",
            "2009-12-31               31.05  72.63  29.64  29.64\n",
            "2010-12-31               30.67  74.71  30.67  32.47\n",
            "2011-12-31               29.71  76.14  29.71  35.40\n",
            "2012-12-31               36.12  76.77  35.92  35.92\n",
            "2013-12-31               32.25  74.21  31.06  31.06\n",
            "2014-12-31               30.56  73.29  30.56  36.81\n",
            "2015-12-31               33.08  73.92  32.99  38.66\n",
            "2016-12-31               32.22  75.22  32.22  32.95\n",
            "2017-12-31               33.57  75.70  33.57  34.29\n",
            "2018-12-31               32.16  75.45  32.16  35.51\n",
            "2019-12-31               32.56  74.59  31.84  36.43\n",
            "2020-12-31               35.51  75.67  35.51  75.67\n",
            "            Average Temperature\n",
            "Date                           \n",
            "2000-12-31                74.05\n",
            "2001-12-31                74.48\n",
            "2002-12-31                75.85\n",
            "2003-12-31                75.47\n",
            "2004-12-31                72.90\n",
            "2005-12-31                75.31\n",
            "2006-12-31                76.41\n",
            "2007-12-31                74.70\n",
            "2008-12-31                74.08\n",
            "2009-12-31                72.63\n",
            "2010-12-31                74.71\n",
            "2011-12-31                76.14\n",
            "2012-12-31                76.77\n",
            "2013-12-31                74.21\n",
            "2014-12-31                73.29\n",
            "2015-12-31                73.92\n",
            "2016-12-31                75.22\n",
            "2017-12-31                75.70\n",
            "2018-12-31                75.45\n",
            "2019-12-31                74.59\n",
            "2020-12-31                75.67\n"
          ],
          "name": "stdout"
        },
        {
          "output_type": "execute_result",
          "data": {
            "text/html": [
              "<div>\n",
              "<style scoped>\n",
              "    .dataframe tbody tr th:only-of-type {\n",
              "        vertical-align: middle;\n",
              "    }\n",
              "\n",
              "    .dataframe tbody tr th {\n",
              "        vertical-align: top;\n",
              "    }\n",
              "\n",
              "    .dataframe thead th {\n",
              "        text-align: right;\n",
              "    }\n",
              "</style>\n",
              "<table border=\"1\" class=\"dataframe\">\n",
              "  <thead>\n",
              "    <tr style=\"text-align: right;\">\n",
              "      <th></th>\n",
              "      <th>Average Temperature</th>\n",
              "    </tr>\n",
              "  </thead>\n",
              "  <tbody>\n",
              "    <tr>\n",
              "      <th>count</th>\n",
              "      <td>247.000000</td>\n",
              "    </tr>\n",
              "    <tr>\n",
              "      <th>mean</th>\n",
              "      <td>53.466194</td>\n",
              "    </tr>\n",
              "    <tr>\n",
              "      <th>std</th>\n",
              "      <td>15.116254</td>\n",
              "    </tr>\n",
              "    <tr>\n",
              "      <th>min</th>\n",
              "      <td>28.440000</td>\n",
              "    </tr>\n",
              "    <tr>\n",
              "      <th>25%</th>\n",
              "      <td>39.505000</td>\n",
              "    </tr>\n",
              "    <tr>\n",
              "      <th>50%</th>\n",
              "      <td>53.240000</td>\n",
              "    </tr>\n",
              "    <tr>\n",
              "      <th>75%</th>\n",
              "      <td>68.260000</td>\n",
              "    </tr>\n",
              "    <tr>\n",
              "      <th>max</th>\n",
              "      <td>76.770000</td>\n",
              "    </tr>\n",
              "  </tbody>\n",
              "</table>\n",
              "</div>"
            ],
            "text/plain": [
              "       Average Temperature\n",
              "count           247.000000\n",
              "mean             53.466194\n",
              "std              15.116254\n",
              "min              28.440000\n",
              "25%              39.505000\n",
              "50%              53.240000\n",
              "75%              68.260000\n",
              "max              76.770000"
            ]
          },
          "metadata": {
            "tags": []
          },
          "execution_count": 147
        }
      ]
    },
    {
      "cell_type": "markdown",
      "metadata": {
        "id": "kLPVBJ3KPQWf",
        "colab_type": "text"
      },
      "source": [
        "Merging beef price datasets and Temperature data to form on dataset with a common Datetime "
      ]
    },
    {
      "cell_type": "code",
      "metadata": {
        "id": "wWAN0rNAPcWB",
        "colab_type": "code",
        "colab": {}
      },
      "source": [
        "\n",
        "\n"
      ],
      "execution_count": 4,
      "outputs": []
    },
    {
      "cell_type": "code",
      "metadata": {
        "id": "4ySwkNxINJaC",
        "colab_type": "code",
        "colab": {
          "base_uri": "https://localhost:8080/",
          "height": 408
        },
        "outputId": "ab913fc2-6d1d-44ee-86ac-97228619b579"
      },
      "source": [
        "df=pd.merge(Tdf,MedStdf, how = 'inner', right_index = True, left_index = True)\n",
        "df2=df.to_numpy()\n",
        "print(df)\n",
        "\n",
        "print(df.max())\n",
        "df.columns"
      ],
      "execution_count": 148,
      "outputs": [
        {
          "output_type": "stream",
          "text": [
            "            Average Temperature  ...  Steers: Med. #1 750-800 lb\n",
            "Date                             ...                            \n",
            "2000-01-01                33.57  ...                       86.80\n",
            "2000-02-01                39.78  ...                       83.81\n",
            "2000-03-01                46.04  ...                       83.75\n",
            "2000-04-01                52.59  ...                       84.15\n",
            "2000-05-01                63.14  ...                       83.42\n",
            "...                         ...  ...                         ...\n",
            "2020-02-01                36.14  ...                      138.01\n",
            "2020-03-01                46.08  ...                      126.90\n",
            "2020-04-01                50.86  ...                      121.11\n",
            "2020-05-01                60.89  ...                      127.23\n",
            "2020-06-01                70.29  ...                      130.78\n",
            "\n",
            "[246 rows x 4 columns]\n",
            "Average Temperature            76.77\n",
            "Steers: Med. #1 500-550 lb    302.66\n",
            "Steers: Med. #1 600-650 lb    262.34\n",
            "Steers: Med. #1 750-800 lb    238.80\n",
            "dtype: float64\n"
          ],
          "name": "stdout"
        },
        {
          "output_type": "execute_result",
          "data": {
            "text/plain": [
              "Index(['Average Temperature', 'Steers: Med. #1 500-550 lb',\n",
              "       'Steers: Med. #1 600-650 lb', 'Steers: Med. #1 750-800 lb'],\n",
              "      dtype='object')"
            ]
          },
          "metadata": {
            "tags": []
          },
          "execution_count": 148
        }
      ]
    },
    {
      "cell_type": "markdown",
      "metadata": {
        "id": "0PYWdgEmzQxt",
        "colab_type": "text"
      },
      "source": [
        ""
      ]
    },
    {
      "cell_type": "markdown",
      "metadata": {
        "id": "SbSm6gJ9KEkQ",
        "colab_type": "text"
      },
      "source": [
        "Graphical representration of the average temperature(monthly) and the price of medium 1 beef cattle 500 to 800 pounds(monthly)"
      ]
    },
    {
      "cell_type": "code",
      "metadata": {
        "id": "Gy0sMH4_qV9S",
        "colab_type": "code",
        "colab": {
          "base_uri": "https://localhost:8080/",
          "height": 586
        },
        "outputId": "795cb218-2f59-4033-e18d-f5a0fb1d4bf2"
      },
      "source": [
        "plt.close('all')\n",
        "#yearly_max.plot()\n",
        "\n",
        "df.plot(x='Average Temperature', y='Steers: Med. #1 500-550 lb')\n",
        "ax1=df.plot.scatter(x='Average Temperature',y='Steers: Med. #1 500-550 lb',c='b',label='500-550lbs');\n",
        "ax2=df.plot.scatter(x='Average Temperature',y='Steers: Med. #1 600-650 lb',c='r',ax=ax1, label='600-650lbs');\n",
        "ax3=df.plot.scatter(x='Average Temperature',y='Steers: Med. #1 750-800 lb',c='g',ax=ax1, label='750-800lbs');\n",
        "ax1.set_xlabel('Steers: Med. #1')\n",
        "plt.legend(loc=\"upper center\", bbox_to_anchor=(0.5, 1.15), ncol=3)\n",
        "\n",
        "print(ax1 == ax2 == ax3)"
      ],
      "execution_count": 149,
      "outputs": [
        {
          "output_type": "stream",
          "text": [
            "True\n"
          ],
          "name": "stdout"
        },
        {
          "output_type": "display_data",
          "data": {
            "image/png": "[encoded data removed]",
            "text/plain": [
              "<Figure size 432x288 with 1 Axes>"
            ]
          },
          "metadata": {
            "tags": [],
            "needs_background": "light"
          }
        },
        {
          "output_type": "display_data",
          "data": {
            "image/png": "[encoded data removed]",
            "text/plain": [
              "<Figure size 432x288 with 1 Axes>"
            ]
          },
          "metadata": {
            "tags": [],
            "needs_background": "light"
          }
        }
      ]
    }
  ]
}