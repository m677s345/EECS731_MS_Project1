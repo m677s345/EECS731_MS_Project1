{
  "nbformat": 4,
  "nbformat_minor": 0,
  "metadata": {
    "colab": {
      "name": "EECS731_project1_pandas.ipynb",
      "provenance": [],
      "authorship_tag": "ABX9TyODNrLoDj8j63UVIYAvgxY/",
      "include_colab_link": true
    },
    "kernelspec": {
      "name": "python3",
      "display_name": "Python 3"
    }
  },
  "cells": [
    {
      "cell_type": "markdown",
      "metadata": {
        "id": "view-in-github",
        "colab_type": "text"
      },
      "source": [
        "<a href=\"https://colab.research.google.com/github/m677s345/EECS731_MS_Project1/blob/master/EECS731_project1_pandas.ipynb\" target=\"_parent\"><img src=\"https://colab.research.google.com/assets/colab-badge.svg\" alt=\"Open In Colab\"/></a>"
      ]
    },
    {
      "cell_type": "code",
      "metadata": {
        "id": "JPwtdqH854W0",
        "colab_type": "code",
        "colab": {
          "base_uri": "https://localhost:8080/",
          "height": 581
        },
        "outputId": "240b27fd-410b-4c18-f2af-81f72f57bed8"
      },
      "source": [
        "!pip install cookiecutter\n",
        "!cookiecutter https://github.com/drivendata/cookiecutter-data-science\n"
      ],
      "execution_count": 3,
      "outputs": [
        {
          "output_type": "stream",
          "text": [
            "Requirement already satisfied: cookiecutter in /usr/local/lib/python3.6/dist-packages (1.7.2)\n",
            "Requirement already satisfied: poyo>=0.5.0 in /usr/local/lib/python3.6/dist-packages (from cookiecutter) (0.5.0)\n",
            "Requirement already satisfied: Jinja2<3.0.0 in /usr/local/lib/python3.6/dist-packages (from cookiecutter) (2.11.2)\n",
            "Requirement already satisfied: jinja2-time>=0.2.0 in /usr/local/lib/python3.6/dist-packages (from cookiecutter) (0.2.0)\n",
            "Requirement already satisfied: python-slugify>=4.0.0 in /usr/local/lib/python3.6/dist-packages (from cookiecutter) (4.0.1)\n",
            "Requirement already satisfied: six>=1.10 in /usr/local/lib/python3.6/dist-packages (from cookiecutter) (1.15.0)\n",
            "Requirement already satisfied: MarkupSafe<2.0.0 in /usr/local/lib/python3.6/dist-packages (from cookiecutter) (1.1.1)\n",
            "Requirement already satisfied: binaryornot>=0.4.4 in /usr/local/lib/python3.6/dist-packages (from cookiecutter) (0.4.4)\n",
            "Requirement already satisfied: requests>=2.23.0 in /usr/local/lib/python3.6/dist-packages (from cookiecutter) (2.23.0)\n",
            "Requirement already satisfied: click>=7.0 in /usr/local/lib/python3.6/dist-packages (from cookiecutter) (7.1.2)\n",
            "Requirement already satisfied: arrow in /usr/local/lib/python3.6/dist-packages (from jinja2-time>=0.2.0->cookiecutter) (0.16.0)\n",
            "Requirement already satisfied: text-unidecode>=1.3 in /usr/local/lib/python3.6/dist-packages (from python-slugify>=4.0.0->cookiecutter) (1.3)\n",
            "Requirement already satisfied: chardet>=3.0.2 in /usr/local/lib/python3.6/dist-packages (from binaryornot>=0.4.4->cookiecutter) (3.0.4)\n",
            "Requirement already satisfied: idna<3,>=2.5 in /usr/local/lib/python3.6/dist-packages (from requests>=2.23.0->cookiecutter) (2.10)\n",
            "Requirement already satisfied: urllib3!=1.25.0,!=1.25.1,<1.26,>=1.21.1 in /usr/local/lib/python3.6/dist-packages (from requests>=2.23.0->cookiecutter) (1.24.3)\n",
            "Requirement already satisfied: certifi>=2017.4.17 in /usr/local/lib/python3.6/dist-packages (from requests>=2.23.0->cookiecutter) (2020.6.20)\n",
            "Requirement already satisfied: python-dateutil>=2.7.0 in /usr/local/lib/python3.6/dist-packages (from arrow->jinja2-time>=0.2.0->cookiecutter) (2.8.1)\n",
            "project_name [project_name]: EECS731_Project1_MS\n",
            "repo_name [eecs731_project1_ms]: eecs_731_project1_ms\n",
            "author_name [Your name (or your organization/company/team)]: Matt Stalcup\n",
            "description [A short description of the project.]: This project is for the manipulation of datasets to find additional value\n",
            "Select open_source_license:\n",
            "1 - MIT\n",
            "2 - BSD-3-Clause\n",
            "3 - No license file\n",
            "Choose from 1, 2, 3 [1]: 3\n",
            "s3_bucket [[OPTIONAL] your-bucket-for-syncing-data (do not include 's3://')]: \n",
            "aws_profile [default]: \n",
            "Select python_interpreter:\n",
            "1 - python3\n",
            "2 - python\n",
            "Choose from 1, 2 [1]: 1\n"
          ],
          "name": "stdout"
        }
      ]
    }
  ]
}