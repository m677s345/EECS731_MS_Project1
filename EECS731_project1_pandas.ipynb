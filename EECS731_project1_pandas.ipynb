{
  "nbformat": 4,
  "nbformat_minor": 0,
  "metadata": {
    "colab": {
      "name": "EECS731_project1_pandas.ipynb",
      "provenance": [],
      "authorship_tag": "ABX9TyMpwG2eyKH1m4mG/08FJBhw",
      "include_colab_link": true
    },
    "kernelspec": {
      "name": "python3",
      "display_name": "Python 3"
    }
  },
  "cells": [
    {
      "cell_type": "markdown",
      "metadata": {
        "id": "view-in-github",
        "colab_type": "text"
      },
      "source": [
        "<a href=\"https://colab.research.google.com/github/m677s345/EECS731_MS_Project1/blob/master/EECS731_project1_pandas.ipynb\" target=\"_parent\"><img src=\"https://colab.research.google.com/assets/colab-badge.svg\" alt=\"Open In Colab\"/></a>"
      ]
    },
    {
      "cell_type": "markdown",
      "metadata": {
        "id": "KKhcxFZK99up",
        "colab_type": "text"
      },
      "source": [
        "Install cookiecutter and build code framework"
      ]
    },
    {
      "cell_type": "code",
      "metadata": {
        "id": "JPwtdqH854W0",
        "colab_type": "code",
        "colab": {
          "base_uri": "https://localhost:8080/",
          "height": 717
        },
        "outputId": "8345633c-5ff4-4dd3-8ee2-0187b353dc25"
      },
      "source": [
        "!pip install cookiecutter\n",
        "!cookiecutter https://github.com/drivendata/cookiecutter-data-science\n"
      ],
      "execution_count": 1,
      "outputs": [
        {
          "output_type": "stream",
          "text": [
            "Collecting cookiecutter\n",
            "  Downloading https://files.pythonhosted.org/packages/95/83/83ebf950ec99b02c61719ccb116462844ba2e873df7c4d40afc962494312/cookiecutter-1.7.2-py2.py3-none-any.whl\n",
            "Collecting jinja2-time>=0.2.0\n",
            "  Downloading https://files.pythonhosted.org/packages/6a/a1/d44fa38306ffa34a7e1af09632b158e13ec89670ce491f8a15af3ebcb4e4/jinja2_time-0.2.0-py2.py3-none-any.whl\n",
            "Collecting binaryornot>=0.4.4\n",
            "  Downloading https://files.pythonhosted.org/packages/24/7e/f7b6f453e6481d1e233540262ccbfcf89adcd43606f44a028d7f5fae5eb2/binaryornot-0.4.4-py2.py3-none-any.whl\n",
            "Requirement already satisfied: python-slugify>=4.0.0 in /usr/local/lib/python3.6/dist-packages (from cookiecutter) (4.0.1)\n",
            "Requirement already satisfied: Jinja2<3.0.0 in /usr/local/lib/python3.6/dist-packages (from cookiecutter) (2.11.2)\n",
            "Requirement already satisfied: six>=1.10 in /usr/local/lib/python3.6/dist-packages (from cookiecutter) (1.15.0)\n",
            "Requirement already satisfied: MarkupSafe<2.0.0 in /usr/local/lib/python3.6/dist-packages (from cookiecutter) (1.1.1)\n",
            "Requirement already satisfied: click>=7.0 in /usr/local/lib/python3.6/dist-packages (from cookiecutter) (7.1.2)\n",
            "Collecting poyo>=0.5.0\n",
            "  Downloading https://files.pythonhosted.org/packages/42/50/0b0820601bde2eda403f47b9a4a1f270098ed0dd4c00c443d883164bdccc/poyo-0.5.0-py2.py3-none-any.whl\n",
            "Requirement already satisfied: requests>=2.23.0 in /usr/local/lib/python3.6/dist-packages (from cookiecutter) (2.23.0)\n",
            "Collecting arrow\n",
            "\u001b[?25l  Downloading https://files.pythonhosted.org/packages/ed/d2/aa994f2d8dd442113c753041761dc0732a35def05538de48f61adb28642a/arrow-0.16.0-py2.py3-none-any.whl (50kB)\n",
            "\u001b[K     |████████████████████████████████| 51kB 2.7MB/s \n",
            "\u001b[?25hRequirement already satisfied: chardet>=3.0.2 in /usr/local/lib/python3.6/dist-packages (from binaryornot>=0.4.4->cookiecutter) (3.0.4)\n",
            "Requirement already satisfied: text-unidecode>=1.3 in /usr/local/lib/python3.6/dist-packages (from python-slugify>=4.0.0->cookiecutter) (1.3)\n",
            "Requirement already satisfied: idna<3,>=2.5 in /usr/local/lib/python3.6/dist-packages (from requests>=2.23.0->cookiecutter) (2.10)\n",
            "Requirement already satisfied: urllib3!=1.25.0,!=1.25.1,<1.26,>=1.21.1 in /usr/local/lib/python3.6/dist-packages (from requests>=2.23.0->cookiecutter) (1.24.3)\n",
            "Requirement already satisfied: certifi>=2017.4.17 in /usr/local/lib/python3.6/dist-packages (from requests>=2.23.0->cookiecutter) (2020.6.20)\n",
            "Requirement already satisfied: python-dateutil>=2.7.0 in /usr/local/lib/python3.6/dist-packages (from arrow->jinja2-time>=0.2.0->cookiecutter) (2.8.1)\n",
            "Installing collected packages: arrow, jinja2-time, binaryornot, poyo, cookiecutter\n",
            "Successfully installed arrow-0.16.0 binaryornot-0.4.4 cookiecutter-1.7.2 jinja2-time-0.2.0 poyo-0.5.0\n",
            "project_name [project_name]: EECS731_project1_pandas\n",
            "repo_name [eecs731_project1_pandas]: EECS731_project1\n",
            "author_name [Your name (or your organization/company/team)]: Matt Stalcup\n",
            "description [A short description of the project.]: \n",
            "Select open_source_license:\n",
            "1 - MIT\n",
            "2 - BSD-3-Clause\n",
            "3 - No license file\n",
            "Choose from 1, 2, 3 [1]: 3\n",
            "s3_bucket [[OPTIONAL] your-bucket-for-syncing-data (do not include 's3://')]: \n",
            "aws_profile [default]: \n",
            "Select python_interpreter:\n",
            "1 - python3\n",
            "2 - python\n",
            "Choose from 1, 2 [1]: 1\n"
          ],
          "name": "stdout"
        }
      ]
    },
    {
      "cell_type": "markdown",
      "metadata": {
        "id": "Fa9h-IcoIK2p",
        "colab_type": "text"
      },
      "source": [
        "Importing packages"
      ]
    },
    {
      "cell_type": "code",
      "metadata": {
        "id": "0-rOoHCy-I4_",
        "colab_type": "code",
        "colab": {
          "base_uri": "https://localhost:8080/",
          "height": 272
        },
        "outputId": "4421e7c0-c1e6-4074-f2f6-1113d0a6b815"
      },
      "source": [
        "import numpy as np\n",
        "import pandas as pd\n",
        "import matplotlib.pyplot as plt\n",
        "Tdf= pd.read_csv('/content/EECS731_project1/data/processed/110-tavg-all-7-2000-2020_cleaned.csv', header=[0], index_col=0)\n",
        "Tdf.index=pd.to_datetime(Tdf.index)\n",
        "LPdf= pd.read_csv('/content/EECS731_project1/data/processed/LivestockPrices_cleaned_Beef.csv',header=[0],index_col=0)\n",
        "LPdf.index=pd.to_datetime(LPdf.index)\n",
        "#Meatdf= pd.read_excel('/content/EECS731_project1_pandas/data/external/MeatStatsFull.xlsx',sheet_name='SlaughterWeights-Full', header=[0,1,2])\n",
        "print(Tdf)"
      ],
      "execution_count": 123,
      "outputs": [
        {
          "output_type": "stream",
          "text": [
            "             Average Temperature\n",
            "Date                            \n",
            "2000-01-01                 33.57\n",
            "2000-02-01                 39.78\n",
            "2000-03-01                 46.04\n",
            "2000-04-01                 52.59\n",
            "2000-05-01                 63.14\n",
            "...                          ...\n",
            "2020-03-01                 46.08\n",
            "2020-04-01                 50.86\n",
            "2020-05-01                 60.89\n",
            "2020-06-01                 70.29\n",
            "2020-07-01                 75.67\n",
            "\n",
            "[247 rows x 1 columns]\n"
          ],
          "name": "stdout"
        }
      ]
    },
    {
      "cell_type": "markdown",
      "metadata": {
        "id": "IGIoRDtDJRMx",
        "colab_type": "text"
      },
      "source": [
        "Statistics for medium grade steers from 500 to 800 pounds and prices are per 100 pounds."
      ]
    },
    {
      "cell_type": "code",
      "metadata": {
        "id": "beEgoLbnmv1X",
        "colab_type": "code",
        "colab": {
          "base_uri": "https://localhost:8080/",
          "height": 297
        },
        "outputId": "7087e79d-0c6a-4300-dc4d-7209f27515be"
      },
      "source": [
        "MedStdf=LPdf.iloc[:,0:3]\n",
        "MedStdf.describe()"
      ],
      "execution_count": 153,
      "outputs": [
        {
          "output_type": "execute_result",
          "data": {
            "text/html": [
              "<div>\n",
              "<style scoped>\n",
              "    .dataframe tbody tr th:only-of-type {\n",
              "        vertical-align: middle;\n",
              "    }\n",
              "\n",
              "    .dataframe tbody tr th {\n",
              "        vertical-align: top;\n",
              "    }\n",
              "\n",
              "    .dataframe thead th {\n",
              "        text-align: right;\n",
              "    }\n",
              "</style>\n",
              "<table border=\"1\" class=\"dataframe\">\n",
              "  <thead>\n",
              "    <tr style=\"text-align: right;\">\n",
              "      <th></th>\n",
              "      <th>Steers: Med. #1 500-550 lb</th>\n",
              "      <th>Steers: Med. #1 600-650 lb</th>\n",
              "      <th>Steers: Med. #1 750-800 lb</th>\n",
              "    </tr>\n",
              "  </thead>\n",
              "  <tbody>\n",
              "    <tr>\n",
              "      <th>count</th>\n",
              "      <td>247.000000</td>\n",
              "      <td>247.000000</td>\n",
              "      <td>247.000000</td>\n",
              "    </tr>\n",
              "    <tr>\n",
              "      <th>mean</th>\n",
              "      <td>147.648057</td>\n",
              "      <td>135.028097</td>\n",
              "      <td>124.863279</td>\n",
              "    </tr>\n",
              "    <tr>\n",
              "      <th>std</th>\n",
              "      <td>45.693877</td>\n",
              "      <td>40.217868</td>\n",
              "      <td>35.283329</td>\n",
              "    </tr>\n",
              "    <tr>\n",
              "      <th>min</th>\n",
              "      <td>87.500000</td>\n",
              "      <td>82.350000</td>\n",
              "      <td>76.320000</td>\n",
              "    </tr>\n",
              "    <tr>\n",
              "      <th>25%</th>\n",
              "      <td>111.625000</td>\n",
              "      <td>104.050000</td>\n",
              "      <td>98.050000</td>\n",
              "    </tr>\n",
              "    <tr>\n",
              "      <th>50%</th>\n",
              "      <td>133.090000</td>\n",
              "      <td>122.990000</td>\n",
              "      <td>114.990000</td>\n",
              "    </tr>\n",
              "    <tr>\n",
              "      <th>75%</th>\n",
              "      <td>169.930000</td>\n",
              "      <td>156.210000</td>\n",
              "      <td>144.590000</td>\n",
              "    </tr>\n",
              "    <tr>\n",
              "      <th>max</th>\n",
              "      <td>302.660000</td>\n",
              "      <td>262.340000</td>\n",
              "      <td>238.800000</td>\n",
              "    </tr>\n",
              "  </tbody>\n",
              "</table>\n",
              "</div>"
            ],
            "text/plain": [
              "       Steers: Med. #1 500-550 lb  ...  Steers: Med. #1 750-800 lb\n",
              "count                  247.000000  ...                  247.000000\n",
              "mean                   147.648057  ...                  124.863279\n",
              "std                     45.693877  ...                   35.283329\n",
              "min                     87.500000  ...                   76.320000\n",
              "25%                    111.625000  ...                   98.050000\n",
              "50%                    133.090000  ...                  114.990000\n",
              "75%                    169.930000  ...                  144.590000\n",
              "max                    302.660000  ...                  238.800000\n",
              "\n",
              "[8 rows x 3 columns]"
            ]
          },
          "metadata": {
            "tags": []
          },
          "execution_count": 153
        }
      ]
    },
    {
      "cell_type": "markdown",
      "metadata": {
        "id": "oZNrNampJl3l",
        "colab_type": "text"
      },
      "source": [
        "Statistics for average temperature across the US"
      ]
    },
    {
      "cell_type": "code",
      "metadata": {
        "id": "kYs9pwYFqKDN",
        "colab_type": "code",
        "colab": {
          "base_uri": "https://localhost:8080/",
          "height": 297
        },
        "outputId": "670c4330-18e2-4f96-c851-c16422e6a677"
      },
      "source": [
        "Tdf.describe()\n"
      ],
      "execution_count": 154,
      "outputs": [
        {
          "output_type": "execute_result",
          "data": {
            "text/html": [
              "<div>\n",
              "<style scoped>\n",
              "    .dataframe tbody tr th:only-of-type {\n",
              "        vertical-align: middle;\n",
              "    }\n",
              "\n",
              "    .dataframe tbody tr th {\n",
              "        vertical-align: top;\n",
              "    }\n",
              "\n",
              "    .dataframe thead th {\n",
              "        text-align: right;\n",
              "    }\n",
              "</style>\n",
              "<table border=\"1\" class=\"dataframe\">\n",
              "  <thead>\n",
              "    <tr style=\"text-align: right;\">\n",
              "      <th></th>\n",
              "      <th>Average Temperature</th>\n",
              "    </tr>\n",
              "  </thead>\n",
              "  <tbody>\n",
              "    <tr>\n",
              "      <th>count</th>\n",
              "      <td>247.000000</td>\n",
              "    </tr>\n",
              "    <tr>\n",
              "      <th>mean</th>\n",
              "      <td>53.466194</td>\n",
              "    </tr>\n",
              "    <tr>\n",
              "      <th>std</th>\n",
              "      <td>15.116254</td>\n",
              "    </tr>\n",
              "    <tr>\n",
              "      <th>min</th>\n",
              "      <td>28.440000</td>\n",
              "    </tr>\n",
              "    <tr>\n",
              "      <th>25%</th>\n",
              "      <td>39.505000</td>\n",
              "    </tr>\n",
              "    <tr>\n",
              "      <th>50%</th>\n",
              "      <td>53.240000</td>\n",
              "    </tr>\n",
              "    <tr>\n",
              "      <th>75%</th>\n",
              "      <td>68.260000</td>\n",
              "    </tr>\n",
              "    <tr>\n",
              "      <th>max</th>\n",
              "      <td>76.770000</td>\n",
              "    </tr>\n",
              "  </tbody>\n",
              "</table>\n",
              "</div>"
            ],
            "text/plain": [
              "        Average Temperature\n",
              "count            247.000000\n",
              "mean              53.466194\n",
              "std               15.116254\n",
              "min               28.440000\n",
              "25%               39.505000\n",
              "50%               53.240000\n",
              "75%               68.260000\n",
              "max               76.770000"
            ]
          },
          "metadata": {
            "tags": []
          },
          "execution_count": 154
        }
      ]
    },
    {
      "cell_type": "markdown",
      "metadata": {
        "id": "kLPVBJ3KPQWf",
        "colab_type": "text"
      },
      "source": [
        "Merging beef price datasets and Temperature data to form on dataset with a common Datetime "
      ]
    },
    {
      "cell_type": "code",
      "metadata": {
        "id": "4ySwkNxINJaC",
        "colab_type": "code",
        "colab": {}
      },
      "source": [
        "df=pd.merge(Tdf,MedStdf, how = 'inner', right_index = True, left_index = True)"
      ],
      "execution_count": 178,
      "outputs": []
    },
    {
      "cell_type": "code",
      "metadata": {
        "id": "wWAN0rNAPcWB",
        "colab_type": "code",
        "colab": {
          "base_uri": "https://localhost:8080/",
          "height": 442
        },
        "outputId": "fe2c0e36-300d-40aa-8581-e1f9e1ae237c"
      },
      "source": [
        "yearly_max=df.resample('Y').max()\n",
        "print(yearly_max)"
      ],
      "execution_count": 176,
      "outputs": [
        {
          "output_type": "stream",
          "text": [
            "             Average Temperature  ...  Steers: Med. #1 750-800 lb\n",
            "Date                              ...                            \n",
            "2000-12-31                 74.05  ...                       90.53\n",
            "2001-12-31                 74.48  ...                       91.64\n",
            "2002-12-31                 75.85  ...                       85.22\n",
            "2003-12-31                 75.47  ...                      104.46\n",
            "2004-12-31                 72.90  ...                      117.10\n",
            "2005-12-31                 75.31  ...                      117.42\n",
            "2006-12-31                 76.41  ...                      117.58\n",
            "2007-12-31                 74.70  ...                      117.04\n",
            "2008-12-31                 74.08  ...                      112.78\n",
            "2009-12-31                 72.63  ...                      102.16\n",
            "2010-12-31                 74.71  ...                      118.04\n",
            "2011-12-31                 76.14  ...                      144.02\n",
            "2012-12-31                 76.77  ...                      155.58\n",
            "2013-12-31                 74.21  ...                      162.95\n",
            "2014-12-31                 73.29  ...                      238.80\n",
            "2015-12-31                 73.92  ...                      226.92\n",
            "2016-12-31                 75.22  ...                      157.30\n",
            "2017-12-31                 75.70  ...                      158.18\n",
            "2018-12-31                 75.45  ...                      155.41\n",
            "2019-12-31                 74.59  ...                      148.96\n",
            "2020-12-31                 70.29  ...                      144.36\n",
            "\n",
            "[21 rows x 4 columns]\n"
          ],
          "name": "stdout"
        }
      ]
    },
    {
      "cell_type": "markdown",
      "metadata": {
        "id": "SbSm6gJ9KEkQ",
        "colab_type": "text"
      },
      "source": [
        "Graphical representration of the average temperature(monthly) and the price of medium 1 beef cattle 500 to 800 pounds(monthly)"
      ]
    },
    {
      "cell_type": "code",
      "metadata": {
        "id": "Gy0sMH4_qV9S",
        "colab_type": "code",
        "colab": {
          "base_uri": "https://localhost:8080/",
          "height": 296
        },
        "outputId": "34737a7e-fe27-4c10-a4fa-57784aa5ede3"
      },
      "source": [
        "plt.close('all')\n",
        "yearly_max.plot()\n"
      ],
      "execution_count": 173,
      "outputs": [
        {
          "output_type": "execute_result",
          "data": {
            "text/plain": [
              "<matplotlib.axes._subplots.AxesSubplot at 0x7fa804751860>"
            ]
          },
          "metadata": {
            "tags": []
          },
          "execution_count": 173
        },
        {
          "output_type": "display_data",
          "data": {
            "image/png": "[encoded data removed]",
            "text/plain": [
              "<Figure size 432x288 with 1 Axes>"
            ]
          },
          "metadata": {
            "tags": [],
            "needs_background": "light"
          }
        }
      ]
    }
  ]
}